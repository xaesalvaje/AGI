{
  "nbformat": 4,
  "nbformat_minor": 0,
  "metadata": {
    "colab": {
      "provenance": [],
      "authorship_tag": "ABX9TyNzpOQYUrLQrBSU1+AG0lGA",
      "include_colab_link": true
    },
    "kernelspec": {
      "name": "python3",
      "display_name": "Python 3"
    },
    "language_info": {
      "name": "python"
    }
  },
  "cells": [
    {
      "cell_type": "markdown",
      "metadata": {
        "id": "view-in-github",
        "colab_type": "text"
      },
      "source": [
        "<a href=\"https://colab.research.google.com/github/xaesalvaje/AGI/blob/main/Untitled2.ipynb\" target=\"_parent\"><img src=\"https://colab.research.google.com/assets/colab-badge.svg\" alt=\"Open In Colab\"/></a>"
      ]
    },
    {
      "cell_type": "code",
      "execution_count": null,
      "metadata": {
        "colab": {
          "base_uri": "https://localhost:8080/",
          "height": 179
        },
        "id": "bGv_DOPvWQJ4",
        "outputId": "fd055b31-1847-441f-e489-91e4541ee2d0"
      },
      "outputs": [
        {
          "output_type": "error",
          "ename": "SyntaxError",
          "evalue": "ignored",
          "traceback": [
            "\u001b[0;36m  File \u001b[0;32m\"<ipython-input-1-ea4a7b4b40d8>\"\u001b[0;36m, line \u001b[0;32m3\u001b[0m\n\u001b[0;31m    ```python\u001b[0m\n\u001b[0m    ^\u001b[0m\n\u001b[0;31mSyntaxError\u001b[0m\u001b[0;31m:\u001b[0m invalid syntax\n"
          ]
        }
      ],
      "source": [
        "### Example: `phind` (use like openai pypi package) <a name=\"example-phind\"></a>\n",
        "\n",
        "```python\n",
        "import phind\n",
        "\n",
        "# set cf_clearance cookie (needed again)\n",
        "phind.cf_clearance = 'xx.xx-1682166681-0-160'\n",
        "phind.user_agent = 'Mozilla/5.0 (Macintosh; Intel Mac OS X 10_15_7) AppleWebKit/537.36 (KHTML, like Gecko) Chrome/112.0.0.0 Safari/537.36' # same as the one from browser you got cf_clearance from\n",
        "\n",
        "prompt = 'who won the quatar world cup'\n",
        "\n",
        "# help needed: not getting newlines from the stream, please submit a PR if you know how to fix this\n",
        "# stream completion\n",
        "for result in phind.StreamingCompletion.create(\n",
        "    model  = 'gpt-4',\n",
        "    prompt = prompt,\n",
        "    results     = phind.Search.create(prompt, actualSearch = True), # create search (set actualSearch to False to disable internet)\n",
        "    creative    = False,\n",
        "    detailed    = False,\n",
        "    codeContext = ''):  # up to 3000 chars of code\n",
        "\n",
        "    print(result.completion.choices[0].text, end='', flush=True)\n",
        "\n",
        "# normal completion\n",
        "result = phind.Completion.create(\n",
        "    model  = 'gpt-4',\n",
        "    prompt = prompt,\n",
        "    results     = phind.Search.create(prompt, actualSearch = True), # create search (set actualSearch to False to disable internet)\n",
        "    creative    = False,\n",
        "    detailed    = False,\n",
        "    codeContext = '') # up to 3000 chars of code\n",
        "\n",
        "print(result.completion.choices[0].text)\n",
        "```"
      ]
    },
    {
      "cell_type": "code",
      "source": [
        "%unzip ./"
      ],
      "metadata": {
        "colab": {
          "base_uri": "https://localhost:8080/"
        },
        "id": "WDH6z2UdXYNH",
        "outputId": "0a155174-0334-46fa-cd8b-ace0ee42417d"
      },
      "execution_count": null,
      "outputs": [
        {
          "output_type": "stream",
          "name": "stdout",
          "text": [
            "Looking in indexes: https://pypi.org/simple, https://us-python.pkg.dev/colab-wheels/public/simple/\n",
            "\u001b[31mERROR: Could not find a version that satisfies the requirement 7zip (from versions: none)\u001b[0m\u001b[31m\n",
            "\u001b[0m\u001b[31mERROR: No matching distribution found for 7zip\u001b[0m\u001b[31m\n",
            "\u001b[0m"
          ]
        }
      ]
    },
    {
      "cell_type": "code",
      "source": [],
      "metadata": {
        "id": "Tlt2po0LzEjT"
      },
      "execution_count": null,
      "outputs": []
    },
    {
      "cell_type": "code",
      "source": [
        "7z ./gpt4free-main.zip"
      ],
      "metadata": {
        "colab": {
          "base_uri": "https://localhost:8080/",
          "height": 139
        },
        "id": "atNoWjHzXD3C",
        "outputId": "9db6c33e-e308-469f-a47c-78d4c4adb357"
      },
      "execution_count": null,
      "outputs": [
        {
          "output_type": "error",
          "ename": "SyntaxError",
          "evalue": "ignored",
          "traceback": [
            "\u001b[0;36m  File \u001b[0;32m\"<ipython-input-2-fed1bf1e25be>\"\u001b[0;36m, line \u001b[0;32m1\u001b[0m\n\u001b[0;31m    7z ./gpt4free-main.zip\u001b[0m\n\u001b[0m     ^\u001b[0m\n\u001b[0;31mSyntaxError\u001b[0m\u001b[0;31m:\u001b[0m invalid syntax\n"
          ]
        }
      ]
    }
  ]
}